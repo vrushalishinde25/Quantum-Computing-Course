{
 "cells": [
  {
   "cell_type": "markdown",
   "id": "d9b850e7",
   "metadata": {},
   "source": [
    "## Necessary Imports"
   ]
  },
  {
   "cell_type": "code",
   "execution_count": null,
   "id": "6a681c92",
   "metadata": {
    "scrolled": true
   },
   "outputs": [],
   "source": [
    "from qiskit import QuantumCircuit, Aer, execute\n",
    "from qiskit.circuit.library.standard_gates import U1Gate\n",
    "import matplotlib.pyplot as plt\n",
    "import tracemalloc\n",
    "import random\n",
    "import numpy as np\n",
    "from qiskit.visualization import plot_histogram\n",
    "from qiskit.circuit.library import QFT\n",
    "from math import pi, sqrt, ceil, gcd, isqrt\n",
    "import timeit"
   ]
  },
  {
   "cell_type": "markdown",
   "id": "43b9b9ab",
   "metadata": {},
   "source": [
    "### Declaring the minimum number of qubits as two"
   ]
  },
  {
   "cell_type": "code",
   "execution_count": null,
   "id": "e4397452",
   "metadata": {},
   "outputs": [],
   "source": [
    "num_qubits = 2\n",
    "runtimes = []"
   ]
  },
  {
   "cell_type": "markdown",
   "id": "8983f79a",
   "metadata": {},
   "source": [
    "### Letting the user decide as to how many qubits is to be analyzed"
   ]
  },
  {
   "cell_type": "code",
   "execution_count": null,
   "id": "4ddd8de7",
   "metadata": {},
   "outputs": [],
   "source": [
    "# To decide maximum number of qubits we need to analyze the run time\n",
    "max_qubits = int(input(\"Enter the maximum number of qubits for which you want to analyze algorithm\"))"
   ]
  },
  {
   "cell_type": "markdown",
   "id": "a9bd5743",
   "metadata": {},
   "source": [
    "## Bernstein-Vazirani Algorithm"
   ]
  },
  {
   "cell_type": "code",
   "execution_count": null,
   "id": "d2b6acc0",
   "metadata": {},
   "outputs": [],
   "source": [
    "# Define the oracle function that encodes a hidden bitstring\n",
    "def oracle(n, hidden_string):\n",
    "    qc = QuantumCircuit(n+1)\n",
    "    for i, char in enumerate(reversed(hidden_string)):\n",
    "        if char == '1':\n",
    "            qc.cx(i, n)\n",
    "    return qc\n",
    "\n",
    "# Define the Bernstein-Vazirani algorithm\n",
    "def bernstein_vazirani(n, hidden_string):\n",
    "    # Create a quantum circuit with n+1 qubits and n classical bits\n",
    "    qc = QuantumCircuit(n+1, n)\n",
    "    # Apply a Hadamard gate to all qubits except the last one\n",
    "    qc.h(range(n)) \n",
    "    # Apply the oracle function\n",
    "    qc.append(oracle(n, hidden_string), range(n+1))  \n",
    "    # Apply a Hadamard gate to all qubits except the last one again\n",
    "    qc.h(range(n))   \n",
    "    # Measure all qubits except the last one\n",
    "    qc.measure(range(n), range(n))  \n",
    "    return qc"
   ]
  },
  {
   "cell_type": "code",
   "execution_count": null,
   "id": "8366a409",
   "metadata": {},
   "outputs": [],
   "source": [
    "number_of_qubits = []\n",
    "memory_values = []\n",
    "time_values = []\n",
    "\n",
    "for i in range(num_qubits, max_qubits+1):\n",
    "    \n",
    "    number_of_qubits.append(i)\n",
    "    \n",
    "    n = i  # number of bits in the hidden string\n",
    "    hidden_string = ''.join([random.choice(['0', '1']) for _ in range(n)])\n",
    "    tracemalloc.start()\n",
    "    qc = bernstein_vazirani(i, hidden_string)\n",
    "\n",
    "    backend = Aer.get_backend('qasm_simulator')\n",
    "    result = execute(qc, backend, shots=1024, memory=True).result()\n",
    "    # Get the current size of traced memory\n",
    "    mem_usage = tracemalloc.get_traced_memory()[0] / 1024 / 1024 # convert to MB\n",
    "\n",
    "    # Stop tracing memory allocations\n",
    "    tracemalloc.stop()\n",
    "    memory = result.get_memory()\n",
    "    \n",
    "    # Calculate the total time in seconds\n",
    "    times = timeit.repeat(lambda: result, repeat=10, number=1)\n",
    "    print(f\"Execution time: {min(times)} s\")\n",
    "    \n",
    "    time_values.append(min(times)) \n",
    "    memory_values.append(mem_usage)"
   ]
  },
  {
   "cell_type": "markdown",
   "id": "b1bb5b4f",
   "metadata": {},
   "source": [
    "### Plotting memory graph for bernstein vazirani"
   ]
  },
  {
   "cell_type": "code",
   "execution_count": null,
   "id": "f5e48a11",
   "metadata": {
    "scrolled": true
   },
   "outputs": [],
   "source": [
    "    print(number_of_qubits, memory_values)\n",
    "    # Plot the curve\n",
    "    plt.plot(number_of_qubits, memory_values)\n",
    "\n",
    "    # Add labels to the plot\n",
    "    plt.xlabel(\"Number of Qubits\")\n",
    "    plt.ylabel(\"Memory Usage\")\n",
    "    plt.title(\"Bernstein-Vazirani Memory Plot\")\n",
    "\n",
    "    # Show the plot\n",
    "    plt.show()"
   ]
  },
  {
   "cell_type": "markdown",
   "id": "7ce422aa",
   "metadata": {},
   "source": [
    "### Plotting time graph for bernstein vazirani"
   ]
  },
  {
   "cell_type": "code",
   "execution_count": null,
   "id": "70173e41",
   "metadata": {},
   "outputs": [],
   "source": [
    "    print(number_of_qubits, time_values)\n",
    "    # Plot the curve\n",
    "    plt.plot(number_of_qubits, time_values)\n",
    "\n",
    "    # Add labels to the plot\n",
    "    plt.xlabel(\"Number of Qubits\")\n",
    "    plt.ylabel(\"Execution time\")\n",
    "    plt.title(\"Bernstein-Vazirani Time Plot\")\n",
    "\n",
    "    # Show the plot\n",
    "    plt.show()"
   ]
  },
  {
   "cell_type": "markdown",
   "id": "bdf6f16e",
   "metadata": {},
   "source": [
    "### Histogram of the Bernstein - Vazirani algorithm"
   ]
  },
  {
   "cell_type": "code",
   "execution_count": null,
   "id": "5949e2ab",
   "metadata": {},
   "outputs": [],
   "source": [
    "#get the counts and plot histogram\n",
    "print(hidden_string)\n",
    "counts=result.get_counts(qc)\n",
    "plot_histogram(counts,figsize=(3,4))"
   ]
  },
  {
   "cell_type": "markdown",
   "id": "b214b5d6",
   "metadata": {},
   "source": [
    "## Deustch Algorithm"
   ]
  },
  {
   "cell_type": "code",
   "execution_count": null,
   "id": "f56ca379",
   "metadata": {},
   "outputs": [],
   "source": [
    "def balanced_function(qc, qubits):\n",
    "    \"\"\"\n",
    "    Apply a balanced function to the given qubits.\n",
    "    \"\"\"\n",
    "    n = len(qubits)\n",
    "    for i in range(n):\n",
    "        qc.cx(qubits[i], qubits[(i+1)%n])"
   ]
  },
  {
   "cell_type": "code",
   "execution_count": null,
   "id": "0b56ca9b",
   "metadata": {},
   "outputs": [],
   "source": [
    "def deutsch_algorithm(qubits):\n",
    "    \"\"\"\n",
    "    Implement the Deutsch algorithm for the given number of qubits.\n",
    "    \"\"\"\n",
    "    # Create a quantum circuit with the given number of qubits\n",
    "    qc = QuantumCircuit(qubits+1, qubits)\n",
    "\n",
    "    # Step 1: Prepare the input qubit in the state |0>\n",
    "    qc.x(qubits)\n",
    "\n",
    "    # Step 2: Apply a Hadamard gate to the input qubit\n",
    "    qc.h(qubits)\n",
    "\n",
    "    # Step 3: Apply the black box function to the input qubit\n",
    "    balanced_function(qc, list(range(qubits+1)))\n",
    "\n",
    "    # Step 4: Apply a Hadamard gate to the input qubit again\n",
    "    qc.h(qubits)\n",
    "\n",
    "    # Step 5: Measure the input qubit and output the result\n",
    "    qc.measure(qubits, 0)\n",
    "\n",
    "    return qc"
   ]
  },
  {
   "cell_type": "code",
   "execution_count": null,
   "id": "84044654",
   "metadata": {},
   "outputs": [],
   "source": [
    "qubit_range = range(num_qubits, max_qubits+1)\n",
    "number_of_qubits = []\n",
    "memory_values_deustch = []\n",
    "time_values_deustch = []\n",
    "\n",
    "for qubits in qubit_range:\n",
    "    number_of_qubits.append(qubits)\n",
    "    \n",
    "    tracemalloc.start()\n",
    "    qc = deutsch_algorithm(qubits)\n",
    "    \n",
    "    # Execute the circuit on a simulator\n",
    "    simulator = Aer.get_backend('qasm_simulator')\n",
    "    result_deustch = execute(qc, backend=simulator, shots=1024,memory=True).result()\n",
    "    # Get the current size of traced memory\n",
    "    mem_usage = tracemalloc.get_traced_memory()[0] / 1024 / 1024 # convert to MB\n",
    "\n",
    "    # Stop tracing memory allocations\n",
    "    tracemalloc.stop()\n",
    "    \n",
    "    # Calculate the total time in seconds\n",
    "    times = timeit.repeat(lambda: result_deustch, repeat=10, number=1)\n",
    "    print(f\"Execution time: {min(times)} s\")\n",
    "    \n",
    "    time_values_deustch.append(min(times)) \n",
    "    memory_values_deustch.append(mem_usage)"
   ]
  },
  {
   "cell_type": "markdown",
   "id": "758eadbf",
   "metadata": {},
   "source": [
    "### Plotting memory graph for deustch"
   ]
  },
  {
   "cell_type": "code",
   "execution_count": null,
   "id": "62f08fa8",
   "metadata": {},
   "outputs": [],
   "source": [
    "    print(number_of_qubits, memory_values_deustch)\n",
    "    # Plot the curve\n",
    "    plt.plot(number_of_qubits, memory_values_deustch)\n",
    "\n",
    "    # Add labels to the plot\n",
    "    plt.xlabel(\"Number of Qubits\")\n",
    "    plt.ylabel(\"Memory Usage\")\n",
    "    plt.title(\"Deustch Memory Plot\")\n",
    "\n",
    "    # Show the plot\n",
    "    plt.show()"
   ]
  },
  {
   "cell_type": "markdown",
   "id": "e2f58097",
   "metadata": {},
   "source": [
    "### Plotting time graph for deustch"
   ]
  },
  {
   "cell_type": "code",
   "execution_count": null,
   "id": "e519c0c2",
   "metadata": {},
   "outputs": [],
   "source": [
    "    print(number_of_qubits, time_values_deustch)\n",
    "    # Plot the curve\n",
    "    plt.plot(number_of_qubits, time_values_deustch)\n",
    "\n",
    "    # Add labels to the plot\n",
    "    plt.xlabel(\"Number of Qubits\")\n",
    "    plt.ylabel(\"Execution time\")\n",
    "    plt.title(\"Deustch Time Plot\")\n",
    "\n",
    "    # Show the plot\n",
    "    plt.show()"
   ]
  },
  {
   "cell_type": "markdown",
   "id": "c7ba6efb",
   "metadata": {},
   "source": [
    "### Histogram of the Deutsch algorithm"
   ]
  },
  {
   "cell_type": "code",
   "execution_count": null,
   "id": "37fe0c08",
   "metadata": {},
   "outputs": [],
   "source": [
    "#get the counts and plot histogram\n",
    "\n",
    "counts=result_deustch.get_counts(qc)\n",
    "plot_histogram(counts,figsize=(3,4))"
   ]
  },
  {
   "cell_type": "markdown",
   "id": "95fd8478",
   "metadata": {},
   "source": [
    "## Grover's Algorithm"
   ]
  },
  {
   "cell_type": "code",
   "execution_count": null,
   "id": "458e2134",
   "metadata": {},
   "outputs": [],
   "source": [
    "qubit_range = range(num_qubits, max_qubits+1)\n",
    "number_of_qubits = []\n",
    "memory_values_grovers = []\n",
    "time_values_grovers = []\n",
    "\n",
    "for n in range(num_qubits, max_qubits+1):\n",
    "    \n",
    "    number_of_qubits.append(n)\n",
    "    # Define the function f as a list of indices of the solutions\n",
    "    solutions = [2, 3, 5, 7]\n",
    "\n",
    "    # Define the number of qubits and the number of iterations of the algorithm\n",
    "    n = n\n",
    "    iterations = 2\n",
    "    tracemalloc.start()\n",
    "    # Create the quantum circuit\n",
    "    qc = QuantumCircuit(n, n)\n",
    "\n",
    "    # Apply Hadamard gates to all qubits\n",
    "    qc.h(range(n))\n",
    "\n",
    "    # Apply the Grover iteration for the desired number of iterations\n",
    "    for i in range(iterations):\n",
    "        # Oracle\n",
    "        for solution in solutions:\n",
    "            # Convert the solution index to a binary string and pad with zeros\n",
    "            b = bin(solution)[2:].zfill(n)\n",
    "            # Apply X gates to the qubits corresponding to a 1 in the binary string\n",
    "            for j in range(n):\n",
    "                if b[j] == '1':\n",
    "                    qc.x(j)\n",
    "            # Apply a phase flip to the state corresponding to the solution\n",
    "            qc.cz(0, n-1)\n",
    "            # Apply X gates again to the qubits corresponding to a 1 in the binary string\n",
    "            for j in range(n):\n",
    "                if b[j] == '1':\n",
    "                    qc.x(j)\n",
    "        # Diffusion operator\n",
    "        qc.h(range(n))\n",
    "        qc.x(range(n))\n",
    "        qc.h(n-1)\n",
    "        qc.mct(list(range(n-1)), n-1)\n",
    "        qc.h(n-1)\n",
    "        qc.x(range(n))\n",
    "        qc.h(range(n))\n",
    "\n",
    "    # Measure all qubits\n",
    "    qc.measure(range(n), range(n))\n",
    "\n",
    "    # Execute the circuit on a simulator\n",
    "    backend = Aer.get_backend('qasm_simulator')\n",
    "    shots = 1024\n",
    "    result_grovers = execute(qc, backend=backend, shots=shots,memory=True).result()\n",
    "    # Get the current size of traced memory\n",
    "    mem_usage = tracemalloc.get_traced_memory()[0] / 1024 / 1024 # convert to MB\n",
    "\n",
    "    # Stop tracing memory allocations\n",
    "    tracemalloc.stop()\n",
    "    \n",
    "    # Calculate the total time in seconds\n",
    "    times = timeit.repeat(lambda: result_grovers, repeat=10, number=1)\n",
    "    print(f\"Execution time: {min(times)} s\")\n",
    "    \n",
    "    time_values_grovers.append(min(times)) \n",
    "    memory_values_grovers.append(mem_usage)\n"
   ]
  },
  {
   "cell_type": "markdown",
   "id": "db09f3c6",
   "metadata": {},
   "source": [
    "### Plotting memory graph for grovers"
   ]
  },
  {
   "cell_type": "code",
   "execution_count": null,
   "id": "df37f5d8",
   "metadata": {},
   "outputs": [],
   "source": [
    "    print(number_of_qubits, memory_values_grovers)\n",
    "    # Plot the curve\n",
    "    plt.plot(number_of_qubits, memory_values_grovers)\n",
    "\n",
    "    # Add labels to the plot\n",
    "    plt.xlabel(\"Number of Qubits\")\n",
    "    plt.ylabel(\"Memory Usage\")\n",
    "    plt.title(\"Grovers Memory Plot\")\n",
    "\n",
    "    # Show the plot\n",
    "    plt.show()"
   ]
  },
  {
   "cell_type": "markdown",
   "id": "b8fb9ccf",
   "metadata": {},
   "source": [
    "### Plotting time graph for grovers"
   ]
  },
  {
   "cell_type": "code",
   "execution_count": null,
   "id": "d4e648ac",
   "metadata": {},
   "outputs": [],
   "source": [
    "    print(number_of_qubits, time_values_grovers)\n",
    "    # Plot the curve\n",
    "    plt.plot(number_of_qubits, time_values_grovers)\n",
    "\n",
    "    # Add labels to the plot\n",
    "    plt.xlabel(\"Number of Qubits\")\n",
    "    plt.ylabel(\"Execution time\")\n",
    "    plt.title(\"Grovers Time Plot\")\n",
    "\n",
    "    # Show the plot\n",
    "    plt.show()"
   ]
  },
  {
   "cell_type": "markdown",
   "id": "65d86e5e",
   "metadata": {},
   "source": [
    "### Histogram of the Grover's algorithm"
   ]
  },
  {
   "cell_type": "code",
   "execution_count": null,
   "id": "8eacd0d3",
   "metadata": {},
   "outputs": [],
   "source": [
    "#get the counts and plot histogram\n",
    "counts=result_grovers.get_counts(qc)\n",
    "plot_histogram(counts,figsize=(3,4))"
   ]
  },
  {
   "cell_type": "markdown",
   "id": "9236c250",
   "metadata": {},
   "source": [
    "## Shor's Algorithm"
   ]
  },
  {
   "cell_type": "code",
   "execution_count": null,
   "id": "ecaaa940",
   "metadata": {},
   "outputs": [],
   "source": [
    "def c_amod15(a, power):\n",
    "    \"\"\"Controlled multiplication by a mod 15\"\"\"\n",
    "    if a not in [2,7,8,11,13]:\n",
    "        raise ValueError(\"'a' must be 2,7,8,11 or 13\")\n",
    "    U = QuantumCircuit(4)        \n",
    "    for iteration in range(power):\n",
    "        if a in [2,13]:\n",
    "            U.swap(0,1)\n",
    "            U.swap(1,2)\n",
    "            U.swap(2,3)\n",
    "        if a in [7,8]:\n",
    "            U.swap(2,3)\n",
    "            U.swap(1,2)\n",
    "            U.swap(0,1)\n",
    "        if a == 11:\n",
    "            U.swap(1,3)\n",
    "            U.swap(0,2)\n",
    "        if a in [7,11,13]:\n",
    "            for q in range(4):\n",
    "                U.x(q)\n",
    "    U = U.to_gate()\n",
    "    U.name = \"%i^%i mod 15\" % (a, power)\n",
    "    c_U = U.control()\n",
    "    return c_U"
   ]
  },
  {
   "cell_type": "code",
   "execution_count": null,
   "id": "020c7b63",
   "metadata": {},
   "outputs": [],
   "source": [
    "a = 13"
   ]
  },
  {
   "cell_type": "code",
   "execution_count": null,
   "id": "1f6404ee",
   "metadata": {},
   "outputs": [],
   "source": [
    "def qft_dagger(n):\n",
    "    qc = QuantumCircuit(n)\n",
    "    for qubit in range(n//2):\n",
    "        qc.swap(qubit,n-qubit-1)\n",
    "    for j in range(n):\n",
    "        for m in range(j):\n",
    "            qc.cp(-np.pi/float(2**(j-m)),m,j)\n",
    "        qc.h(j)\n",
    "    qc.name = \"QFT Dagger\"\n",
    "    return qc"
   ]
  },
  {
   "cell_type": "code",
   "execution_count": null,
   "id": "3488e82a",
   "metadata": {},
   "outputs": [],
   "source": [
    "qubit_range = range(num_qubits, max_qubits+1)\n",
    "number_of_qubits = []\n",
    "memory_values_shors = []\n",
    "time_values_shors = []\n",
    "\n",
    "for n_count in range(num_qubits, max_qubits+1):\n",
    "    \n",
    "    number_of_qubits.append(n_count)\n",
    "    # Create QuantumCircuit with n_count counting qubits\n",
    "    \n",
    "    tracemalloc.start()\n",
    "    # plus 4 qubits for U to act on\n",
    "    qc = QuantumCircuit(n_count + 4, n_count)\n",
    "\n",
    "    # Initialize counting qubits\n",
    "    # in state |+>\n",
    "    for q in range(n_count):\n",
    "        qc.h(q)\n",
    "    \n",
    "    # And auxiliary register in state |1>\n",
    "    qc.x(3+n_count)\n",
    "\n",
    "    # Do controlled-U operations\n",
    "    for q in range(n_count):\n",
    "        qc.append(c_amod15(a, 2**q), \n",
    "                 [q] + [i+n_count for i in range(4)])\n",
    "\n",
    "    # Do inverse-QFT\n",
    "    qc.append(qft_dagger(n_count), range(n_count))\n",
    "\n",
    "    # Measure circuit\n",
    "    qc.measure(range(n_count), range(n_count))\n",
    "\n",
    "    backend = Aer.get_backend('qasm_simulator')\n",
    "    results_shors = execute(qc,backend,shots=1024).result()\n",
    "    # Get the current size of traced memory\n",
    "    mem_usage = tracemalloc.get_traced_memory()[0] / 1024 / 1024 # convert to MB\n",
    "\n",
    "    # Stop tracing memory allocations\n",
    "    tracemalloc.stop()\n",
    "    \n",
    "    # Calculate the total time in seconds\n",
    "    times = timeit.repeat(lambda: results_shors, repeat=10, number=1)\n",
    "    print(f\"Execution time: {min(times)} s\")\n",
    "    \n",
    "    time_values_shors.append(min(times)) \n",
    "    memory_values_shors.append(mem_usage)"
   ]
  },
  {
   "cell_type": "markdown",
   "id": "a4271f83",
   "metadata": {},
   "source": [
    "### Plotting memory graph for shors"
   ]
  },
  {
   "cell_type": "code",
   "execution_count": null,
   "id": "6312e259",
   "metadata": {},
   "outputs": [],
   "source": [
    "    print(number_of_qubits, memory_values_shors)\n",
    "    # Plot the curve\n",
    "    plt.plot(number_of_qubits, memory_values_shors)\n",
    "\n",
    "    # Add labels to the plot\n",
    "    plt.xlabel(\"Number of Qubits\")\n",
    "    plt.ylabel(\"Memory Usage\")\n",
    "    plt.title(\"Shors Memory Plot\")\n",
    "\n",
    "    # Show the plot\n",
    "    plt.show()"
   ]
  },
  {
   "cell_type": "markdown",
   "id": "e68ebdb8",
   "metadata": {},
   "source": [
    "### Plotting time graph for shors"
   ]
  },
  {
   "cell_type": "code",
   "execution_count": null,
   "id": "cea6b1e9",
   "metadata": {},
   "outputs": [],
   "source": [
    "    print(number_of_qubits, time_values_shors)\n",
    "    # Plot the curve\n",
    "    plt.plot(number_of_qubits, time_values_shors)\n",
    "\n",
    "    # Add labels to the plot\n",
    "    plt.xlabel(\"Number of Qubits\")\n",
    "    plt.ylabel(\"Execution time\")\n",
    "    plt.title(\"Shors Time Plot\")\n",
    "\n",
    "    # Show the plot\n",
    "    plt.show()"
   ]
  },
  {
   "cell_type": "markdown",
   "id": "0df4ae7c",
   "metadata": {},
   "source": [
    "### Histogram of the Shor's algorithm"
   ]
  },
  {
   "cell_type": "code",
   "execution_count": null,
   "id": "ac4d732d",
   "metadata": {},
   "outputs": [],
   "source": [
    "#get the counts and plot histogram\n",
    "counts=results_shors.get_counts(qc)\n",
    "plot_histogram(counts,figsize=(3,4))"
   ]
  },
  {
   "cell_type": "markdown",
   "id": "16190e41",
   "metadata": {},
   "source": [
    "## Simon's Algorithm"
   ]
  },
  {
   "cell_type": "code",
   "execution_count": null,
   "id": "1e781bc6",
   "metadata": {},
   "outputs": [],
   "source": [
    "number_of_qubits = []\n",
    "memory_values_simon = []\n",
    "time_values_simon = []\n",
    "\n",
    "for n_count in range(num_qubits, max_qubits+1):\n",
    "    number_of_qubits.append(n_count)\n",
    "    \n",
    "    # Define the number of qubits and the secret string for Simon's algorithm\n",
    "    tracemalloc.start()\n",
    "\n",
    "   # Define the function f\n",
    "    n = n_count  # Number of bits in the input\n",
    "    s = ''.join([random.choice(['0', '1']) for _ in range(n)])  # Hidden bitstring\n",
    "    f = lambda x: '{0:b}'.format(int(x, 2) ^ int(x, 2) & int(s, 2)).zfill(n)  # XOR with s\n",
    "\n",
    "    # Create the quantum circuit\n",
    "    qc = QuantumCircuit(n*2, n)\n",
    "\n",
    "    # Apply Hadamard gates to the first n qubits\n",
    "    for i in range(n):\n",
    "        qc.h(i)\n",
    "\n",
    "    # Apply the function f\n",
    "    for i in range(n):\n",
    "        qc.cx(i, n + int(f('{0:b}'.format(i).zfill(n)), 2))\n",
    "\n",
    "    # Apply Hadamard gates to the first n qubits again\n",
    "    for i in range(n):\n",
    "        qc.h(i)\n",
    "\n",
    "    # Measure the first n qubits\n",
    "    for i in range(n):\n",
    "        qc.measure(i, i)\n",
    "\n",
    "    # Run the circuit on the qasm simulator\n",
    "    backend = Aer.get_backend('qasm_simulator')\n",
    "    shots = 1024\n",
    "    result_simon = execute(qc, backend, shots=shots).result()\n",
    "    # Get the current size of traced memory\n",
    "    mem_usage = tracemalloc.get_traced_memory()[0] / 1024 / 1024 # convert to MB\n",
    "\n",
    "    # Stop tracing memory allocations\n",
    "    tracemalloc.stop()\n",
    "    \n",
    "    # Calculate the total time in seconds\n",
    "    times = timeit.repeat(lambda: result_simon, repeat=10, number=1)\n",
    "    print(f\"Execution time: {min(times)} s\")\n",
    "    \n",
    "    time_values_simon.append(min(times)) \n",
    "    memory_values_simon.append(mem_usage)"
   ]
  },
  {
   "cell_type": "markdown",
   "id": "1affd4e8",
   "metadata": {},
   "source": [
    "### Plotting memory graph for simon's"
   ]
  },
  {
   "cell_type": "code",
   "execution_count": null,
   "id": "ef596997",
   "metadata": {},
   "outputs": [],
   "source": [
    "    print(number_of_qubits, memory_values_simon)\n",
    "    # Plot the curve\n",
    "    plt.plot(number_of_qubits, memory_values_simon)\n",
    "\n",
    "    # Add labels to the plot\n",
    "    plt.xlabel(\"Number of Qubits\")\n",
    "    plt.ylabel(\"Memory Usage\")\n",
    "    plt.title(\"Simon Memory Plot\")\n",
    "\n",
    "    # Show the plot\n",
    "    plt.show()"
   ]
  },
  {
   "cell_type": "markdown",
   "id": "4c6a9fb9",
   "metadata": {},
   "source": [
    "### Plotting time graph for simon's"
   ]
  },
  {
   "cell_type": "code",
   "execution_count": null,
   "id": "8886562a",
   "metadata": {},
   "outputs": [],
   "source": [
    "    print(number_of_qubits, time_values_simon)\n",
    "    # Plot the curve\n",
    "    plt.plot(number_of_qubits, time_values_simon)\n",
    "\n",
    "    # Add labels to the plot\n",
    "    plt.xlabel(\"Number of Qubits\")\n",
    "    plt.ylabel(\"Execution time\")\n",
    "    plt.title(\"Simon Time Plot\")\n",
    "\n",
    "    # Show the plot\n",
    "    plt.show()"
   ]
  },
  {
   "cell_type": "markdown",
   "id": "8d6c3d89",
   "metadata": {},
   "source": [
    "### Histogram of the Simon algorithm"
   ]
  },
  {
   "cell_type": "code",
   "execution_count": null,
   "id": "ee21030f",
   "metadata": {},
   "outputs": [],
   "source": [
    "#get the counts and plot histogram\n",
    "counts=result_simon.get_counts(qc)\n",
    "plot_histogram(counts,figsize=(3,4))"
   ]
  },
  {
   "cell_type": "code",
   "execution_count": null,
   "id": "a1b8a146",
   "metadata": {},
   "outputs": [],
   "source": []
  }
 ],
 "metadata": {
  "kernelspec": {
   "display_name": "Python 3 (ipykernel)",
   "language": "python",
   "name": "python3"
  },
  "language_info": {
   "codemirror_mode": {
    "name": "ipython",
    "version": 3
   },
   "file_extension": ".py",
   "mimetype": "text/x-python",
   "name": "python",
   "nbconvert_exporter": "python",
   "pygments_lexer": "ipython3",
   "version": "3.9.13"
  }
 },
 "nbformat": 4,
 "nbformat_minor": 5
}
