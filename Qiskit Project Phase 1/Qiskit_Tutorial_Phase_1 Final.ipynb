{
 "cells": [
  {
   "cell_type": "markdown",
   "id": "13aefbcf",
   "metadata": {},
   "source": [
    "# 1) Import Libraries"
   ]
  },
  {
   "cell_type": "code",
   "execution_count": null,
   "id": "cb8d3e57",
   "metadata": {},
   "outputs": [],
   "source": [
    "import numpy as np\n",
    "from qiskit import *\n",
    "from qiskit.visualization import plot_histogram,plot_bloch_multivector,plot_state_qsphere,plot_bloch_vector,array_to_latex\n",
    "from IPython.display import display, Markdown"
   ]
  },
  {
   "cell_type": "markdown",
   "id": "bd077abf",
   "metadata": {},
   "source": [
    "*** Steps for Implementing a gate: ***\n",
    "1. Define quantum circuit with nq qubits and nc classical bits.\n",
    "2. Initialize quibits.\n",
    "3. Apply gates\n",
    "5. Get the output statevector using statevector_simulator. Visualize the statevector using qshpere\n",
    "6. Measure the qubits.\n",
    "7. Simulate the circuit for n shots using qasm_simulator\n",
    "8. Plot the probabities/counts obtained from step 7"
   ]
  },
  {
   "cell_type": "markdown",
   "id": "c6a03d66",
   "metadata": {},
   "source": [
    "# 2) Flip Gate (X Gate)"
   ]
  },
  {
   "cell_type": "markdown",
   "id": "36a01eb9",
   "metadata": {},
   "source": [
    "### Logic behind the X Gate: \n",
    "### 0 --X-- 1 \n",
    "### 1 --X-- 0"
   ]
  },
  {
   "cell_type": "code",
   "execution_count": null,
   "id": "94916fd1",
   "metadata": {},
   "outputs": [],
   "source": [
    "#Create a quantum circuit with 1 qubit and 1 classical bit\n",
    "circuit=QuantumCircuit(1,1)"
   ]
  },
  {
   "cell_type": "code",
   "execution_count": null,
   "id": "98364d7d",
   "metadata": {},
   "outputs": [],
   "source": [
    "#draw the circuit\n",
    "circuit.draw(output=\"mpl\")"
   ]
  },
  {
   "cell_type": "code",
   "execution_count": null,
   "id": "fc22cd7b",
   "metadata": {},
   "outputs": [],
   "source": [
    "#assign |0> state to the qubit (optional as |0> is assigned by default)\n",
    "circuit.reset(0)\n",
    "circuit.draw(output=\"mpl\")"
   ]
  },
  {
   "cell_type": "code",
   "execution_count": null,
   "id": "a9f0fece",
   "metadata": {},
   "outputs": [],
   "source": [
    "#Applying Flip Gate\n",
    "circuit.x(0)\n",
    "circuit.draw(output=\"mpl\")"
   ]
  },
  {
   "cell_type": "code",
   "execution_count": null,
   "id": "3a36bed4",
   "metadata": {},
   "outputs": [],
   "source": [
    "# calling statevector_simulator from backend of Aer\n",
    "backend = Aer.get_backend('statevector_simulator')\n",
    "\n",
    "#return transpiled circuit \n",
    "transpiledcircuit = transpile(circuit,backend)\n",
    "\n",
    "#excute the simulator\n",
    "result = execute(transpiledcircuit,backend).result()"
   ]
  },
  {
   "cell_type": "code",
   "execution_count": null,
   "id": "c40cc6a5",
   "metadata": {},
   "outputs": [],
   "source": [
    "#displaying statevector\n",
    "statevector=result.get_statevector(transpiledcircuit)\n",
    "print(statevector)"
   ]
  },
  {
   "cell_type": "code",
   "execution_count": null,
   "id": "8034f8f6",
   "metadata": {},
   "outputs": [],
   "source": [
    "# Display the statevector cleanly in LaTeX format\n",
    "latex_statevector = array_to_latex(statevector)\n",
    "display(Markdown(\"Output statevector:\"))\n",
    "display(latex_statevector)"
   ]
  },
  {
   "cell_type": "code",
   "execution_count": null,
   "id": "75225b4a",
   "metadata": {},
   "outputs": [],
   "source": [
    "#plotting bloch sphere \n",
    "plot_bloch_multivector(statevector)"
   ]
  },
  {
   "cell_type": "code",
   "execution_count": null,
   "id": "ad5670d0",
   "metadata": {},
   "outputs": [],
   "source": [
    "#plotting qsphere\n",
    "plot_state_qsphere(statevector)"
   ]
  },
  {
   "cell_type": "markdown",
   "id": "342b6f79",
   "metadata": {},
   "source": [
    "### 2a) Using unitary matrix"
   ]
  },
  {
   "cell_type": "code",
   "execution_count": null,
   "id": "b88a767e",
   "metadata": {},
   "outputs": [],
   "source": [
    "# Use the unitary simulator backend\n",
    "backend = Aer.get_backend('unitary_simulator')\n",
    "\n",
    "# Transpile the circuit for the unitary simulator backend\n",
    "transpiled_circuit = transpile(circuit, backend)\n",
    "\n",
    "# Execute the simulation\n",
    "result = execute(transpiled_circuit, backend).result()\n",
    "\n",
    "# Get the unitary matrix from the result\n",
    "unitary_matrix = result.get_unitary(transpiled_circuit)\n",
    "\n",
    "# Print the unitary matrix\n",
    "print(\"Unitary matrix representing the flip gate:\")\n",
    "print(np.round(unitary_matrix, 3))"
   ]
  },
  {
   "cell_type": "markdown",
   "id": "4a1817b9",
   "metadata": {},
   "source": [
    "### 2b) Measuring qubits\n"
   ]
  },
  {
   "cell_type": "code",
   "execution_count": null,
   "id": "d6bec58a",
   "metadata": {},
   "outputs": [],
   "source": [
    "# measure means measuring the qubit at index 0 and then storing the result in classical qubit at index 0\n",
    "circuit.measure([0],[0])\n",
    "circuit.draw('mpl')"
   ]
  },
  {
   "cell_type": "code",
   "execution_count": null,
   "id": "6ef76fb4",
   "metadata": {},
   "outputs": [],
   "source": [
    "# aer simulator\n",
    "backend = Aer.get_backend('qasm_simulator')\n",
    "\n",
    "#return transpiled circuit using transpile\n",
    "transpiledcircuit = transpile(circuit,backend)\n",
    "\n",
    "#excute the simulation for 1024 shots\n",
    "result = execute(transpiledcircuit,backend,shots=1024).result()"
   ]
  },
  {
   "cell_type": "code",
   "execution_count": null,
   "id": "b49d1877",
   "metadata": {},
   "outputs": [],
   "source": [
    "#get the counts and plot histogram\n",
    "counts=result.get_counts(transpiledcircuit)\n",
    "plot_histogram(counts,figsize=(3,4))"
   ]
  },
  {
   "cell_type": "markdown",
   "id": "b1450c25",
   "metadata": {},
   "source": [
    "# 3) Phase Flip Gate (Z Gate)"
   ]
  },
  {
   "cell_type": "markdown",
   "id": "fcb9d456",
   "metadata": {},
   "source": [
    "### |0>  --Z--   |0>\n",
    "### |1> --Z-- (-|1>)\n",
    "### |+> --Z-- |->\n",
    "### |-> --Z-- |+>"
   ]
  },
  {
   "cell_type": "code",
   "execution_count": null,
   "id": "f11f2cec",
   "metadata": {},
   "outputs": [],
   "source": [
    "#Create a quantum circuit with 1 qubit and 1 classical bit\n",
    "circuit=QuantumCircuit(1,1)"
   ]
  },
  {
   "cell_type": "code",
   "execution_count": null,
   "id": "7dc3c1d9",
   "metadata": {},
   "outputs": [],
   "source": [
    "#assign |0> state to the qubit (optional as |0> is assigned by default)\n",
    "circuit.reset(0)\n",
    "\n",
    "#since we do not have any effect of flip gate on |0> we use normal flip gate to make it |1>\n",
    "circuit.x(0)"
   ]
  },
  {
   "cell_type": "code",
   "execution_count": null,
   "id": "b8c02af8",
   "metadata": {},
   "outputs": [],
   "source": [
    "#Applying Phase Flip Gate\n",
    "circuit.z(0)\n",
    "circuit.draw(output=\"mpl\")"
   ]
  },
  {
   "cell_type": "code",
   "execution_count": null,
   "id": "90eb11f8",
   "metadata": {},
   "outputs": [],
   "source": [
    "## calling statevector_simulator from backend of Aer\n",
    "backend = Aer.get_backend('statevector_simulator')\n",
    "\n",
    "#return transpiled circuit using transpile\n",
    "transpiledcircuit = transpile(circuit,backend)\n",
    "\n",
    "#excute the simulator\n",
    "result = execute(transpiledcircuit,backend).result()"
   ]
  },
  {
   "cell_type": "code",
   "execution_count": null,
   "id": "cc4cb77e",
   "metadata": {},
   "outputs": [],
   "source": [
    "## Display the statevector cleanly in LaTeX format\n",
    "statevector=result.get_statevector(transpiledcircuit)\n",
    "latex_statevector = array_to_latex(statevector)\n",
    "display(Markdown(\"Output statevector:\"))\n",
    "display(latex_statevector)"
   ]
  },
  {
   "cell_type": "code",
   "execution_count": null,
   "id": "62dc94ee",
   "metadata": {},
   "outputs": [],
   "source": [
    "# plotting the qsphere\n",
    "plot_state_qsphere(statevector)"
   ]
  },
  {
   "cell_type": "code",
   "execution_count": null,
   "id": "6ef51644",
   "metadata": {},
   "outputs": [],
   "source": [
    "# measure means measuring the qubit at index 0 and then storing the result in classical qubit at index 0\n",
    "circuit.measure([0],[0])\n",
    "circuit.draw(output=\"mpl\")"
   ]
  },
  {
   "cell_type": "code",
   "execution_count": null,
   "id": "264fe320",
   "metadata": {},
   "outputs": [],
   "source": [
    "# aer simulator\n",
    "backend = Aer.get_backend('qasm_simulator')\n",
    "\n",
    "#return transpiled circuit using transpile\n",
    "transpiledcircuit = transpile(circuit,backend)\n",
    "\n",
    "#excute the simulation for 1024 shots\n",
    "result = execute(transpiledcircuit,backend,shots=1024).result()"
   ]
  },
  {
   "cell_type": "code",
   "execution_count": null,
   "id": "b2d0cac3",
   "metadata": {},
   "outputs": [],
   "source": [
    "#get the counts and plotting histogram\n",
    "counts=result.get_counts(transpiledcircuit)\n",
    "plot_histogram(counts,figsize=(3,4))"
   ]
  },
  {
   "cell_type": "markdown",
   "id": "a00b7ca4",
   "metadata": {},
   "source": [
    "# 4) Hadamard Gate (H Gate)"
   ]
  },
  {
   "cell_type": "markdown",
   "id": "b9f87155",
   "metadata": {},
   "source": [
    "### |0⟩ --H--  |+>\n",
    "### |1⟩ --H-- |->"
   ]
  },
  {
   "cell_type": "code",
   "execution_count": null,
   "id": "b1783e90",
   "metadata": {},
   "outputs": [],
   "source": [
    "# Create a quantum circuit with 1 qubit and 1 classical bit\n",
    "circuit=QuantumCircuit(1,1)"
   ]
  },
  {
   "cell_type": "code",
   "execution_count": null,
   "id": "14a6a689",
   "metadata": {},
   "outputs": [],
   "source": [
    "# assign |0> state to the qubit (optional as |0> is assigned by default)\n",
    "circuit.reset(0)\n",
    "\n",
    "# Applying hadamard gate\n",
    "circuit.h(0)\n",
    "circuit.draw(output=\"mpl\")"
   ]
  },
  {
   "cell_type": "code",
   "execution_count": null,
   "id": "04330c52",
   "metadata": {},
   "outputs": [],
   "source": [
    "# calling statevector_simulator from backend of Aer\n",
    "backend = Aer.get_backend('statevector_simulator')\n",
    "\n",
    "# return transpiled circuit using transpile\n",
    "transpiledcircuit = transpile(circuit,backend)\n",
    "\n",
    "# excute the simulator\n",
    "result = execute(transpiledcircuit,backend).result()\n",
    "\n",
    "# Get the statevector from the result\n",
    "statevector = result.get_statevector()\n",
    "\n",
    "# Display the statevector cleanly in LaTeX form\n",
    "latex_statevector = array_to_latex(statevector)\n",
    "display(Markdown(\"Output statevector:\"))\n",
    "display(latex_statevector)"
   ]
  },
  {
   "cell_type": "code",
   "execution_count": null,
   "id": "dc809247",
   "metadata": {},
   "outputs": [],
   "source": [
    "# measure means measuring the qubit at index 0 and then storing the result in classical qubit at index 0\n",
    "circuit.measure(0,0)\n",
    "circuit.draw(output=\"mpl\")"
   ]
  },
  {
   "cell_type": "code",
   "execution_count": null,
   "id": "bc6c5daf",
   "metadata": {},
   "outputs": [],
   "source": [
    "# aer simulator\n",
    "backend = Aer.get_backend('qasm_simulator')\n",
    "\n",
    "#return transpiled circuit using transpile\n",
    "transpiledcircuit = transpile(circuit,backend)\n",
    "\n",
    "#excute the simulation for 1024 shots\n",
    "result = execute(transpiledcircuit,backend,shots=10024).result()"
   ]
  },
  {
   "cell_type": "code",
   "execution_count": null,
   "id": "4f4f350b",
   "metadata": {},
   "outputs": [],
   "source": [
    "#get the counts and plot histogram\n",
    "counts=result.get_counts(transpiledcircuit)\n",
    "plot_histogram(counts,figsize=(3,4))"
   ]
  },
  {
   "cell_type": "markdown",
   "id": "2d39890b",
   "metadata": {},
   "source": [
    "# 5) controlled NOT gate (cNOT Gate)"
   ]
  },
  {
   "cell_type": "markdown",
   "id": "f14afcb0",
   "metadata": {},
   "source": [
    "### |Control qubit> |Target qubit> --> |Control qubit> |Target qubit>\n",
    "### |0> |0> -C-> |0> |0>\n",
    "### |0> |1> -C-> |0> |1>\n",
    "### |1> |0> -C-> |1> |1>\n",
    "### |1> |1> -C-> |1> |0>"
   ]
  },
  {
   "cell_type": "code",
   "execution_count": null,
   "id": "cfa4b133",
   "metadata": {},
   "outputs": [],
   "source": [
    "#Create a quantum circuit with 1 qubit and 1 classical bit\n",
    "circuit=QuantumCircuit(2,2)"
   ]
  },
  {
   "cell_type": "code",
   "execution_count": null,
   "id": "b623bbb5",
   "metadata": {},
   "outputs": [],
   "source": [
    "#assign |0> state to the qubit (optional as |0> is assigned by default)\n",
    "circuit.reset(0)\n",
    "# invertng the qubit at index 0 because 00 and 01 has no effect on c-Not gate. Hence we made it to 10 so that the result will be visible\n",
    "circuit.x(0)\n",
    "\n",
    "#assign |0> state to the qubit (optional as |0> is assigned by default)\n",
    "circuit.reset(1)\n",
    "circuit.draw(output=\"mpl\")"
   ]
  },
  {
   "cell_type": "code",
   "execution_count": null,
   "id": "20fe1ac0",
   "metadata": {},
   "outputs": [],
   "source": [
    "# Applying the c-Not gate\n",
    "circuit.cx(0,1)"
   ]
  },
  {
   "cell_type": "code",
   "execution_count": null,
   "id": "f4d87a62",
   "metadata": {},
   "outputs": [],
   "source": [
    "circuit.draw(output=\"mpl\")"
   ]
  },
  {
   "cell_type": "code",
   "execution_count": null,
   "id": "90eecec6",
   "metadata": {},
   "outputs": [],
   "source": [
    "# calling statevector_simulator from backend of Aer\n",
    "backend = Aer.get_backend('statevector_simulator')\n",
    "\n",
    "#return transpiled circuit using transpile\n",
    "transpiledcircuit = transpile(circuit,backend)\n",
    "\n",
    "#excute the simulator\n",
    "result = execute(transpiledcircuit,backend).result()"
   ]
  },
  {
   "cell_type": "code",
   "execution_count": null,
   "id": "ca11e02f",
   "metadata": {},
   "outputs": [],
   "source": [
    "# Display the statevector cleanly in LaTeX format\n",
    "statevector=result.get_statevector(transpiledcircuit)\n",
    "latex_statevector = array_to_latex(statevector)\n",
    "display(Markdown(\"Output statevector\"))\n",
    "display(latex_statevector)"
   ]
  },
  {
   "cell_type": "code",
   "execution_count": null,
   "id": "3244c931",
   "metadata": {},
   "outputs": [],
   "source": [
    "# Plotting q-sphere\n",
    "plot_state_qsphere(statevector)"
   ]
  },
  {
   "cell_type": "code",
   "execution_count": null,
   "id": "5fe12a09",
   "metadata": {},
   "outputs": [],
   "source": [
    "# measure means measuring the qubit at index 0 and index 1 and then storing the result in classical qubit at index 0 and index 1 respectively\n",
    "circuit.measure([0,1],[0,1])"
   ]
  },
  {
   "cell_type": "code",
   "execution_count": null,
   "id": "c846176f",
   "metadata": {},
   "outputs": [],
   "source": [
    "# aer simulator\n",
    "backend = Aer.get_backend('qasm_simulator')\n",
    "\n",
    "#return transpiled circuit using transpile\n",
    "transpiledcircuit = transpile(circuit,backend)\n",
    "\n",
    "#excute the simulation for 1024 shots\n",
    "result = execute(transpiledcircuit,backend,shots=1024).result()\n",
    "\n",
    "#get the counts and plot_histogram\n",
    "counts=result.get_counts(transpiledcircuit)\n",
    "plot_histogram(counts,figsize=(3,4))"
   ]
  },
  {
   "cell_type": "markdown",
   "id": "d0412eb3",
   "metadata": {},
   "source": [
    "# 6) Prove the equivalence: X = HZH"
   ]
  },
  {
   "cell_type": "code",
   "execution_count": null,
   "id": "8669e28e",
   "metadata": {},
   "outputs": [],
   "source": [
    "# Create two quantum circuits\n",
    "circuit1 = QuantumCircuit(1)\n",
    "circuit2 = QuantumCircuit(1)\n",
    "\n",
    "# Apply X gate to the first circuit\n",
    "circuit1.x(0)\n",
    "\n",
    "# Apply HZH to the second circuit\n",
    "circuit2.h(0)\n",
    "circuit2.z(0)\n",
    "circuit2.h(0) "
   ]
  },
  {
   "cell_type": "code",
   "execution_count": null,
   "id": "6f65588d",
   "metadata": {},
   "outputs": [],
   "source": [
    "circuit1.draw(output=\"mpl\")"
   ]
  },
  {
   "cell_type": "code",
   "execution_count": null,
   "id": "aca78f95",
   "metadata": {},
   "outputs": [],
   "source": [
    "circuit2.draw(output=\"mpl\")"
   ]
  },
  {
   "cell_type": "code",
   "execution_count": null,
   "id": "b9b41aa6",
   "metadata": {},
   "outputs": [],
   "source": [
    "# Use statevector simulator to get the output states\n",
    "backend = Aer.get_backend('statevector_simulator')\n",
    "result1_0 = execute(circuit1,backend).result().get_statevector()\n",
    "result2_0 = execute(circuit2,backend).result().get_statevector()"
   ]
  },
  {
   "cell_type": "code",
   "execution_count": null,
   "id": "78294adc",
   "metadata": {},
   "outputs": [],
   "source": [
    "# Compare outputs for |0⟩ state\n",
    "print(\"Output for |0⟩ state:\")\n",
    "display(Markdown(\"X statevector\"))\n",
    "display(array_to_latex(result1_0))\n",
    "display(Markdown(\"HZH statevector\"))\n",
    "display(array_to_latex(result2_0))"
   ]
  },
  {
   "cell_type": "code",
   "execution_count": null,
   "id": "aa163160",
   "metadata": {},
   "outputs": [],
   "source": [
    "# Now, let's test the |1⟩ state\n",
    "circuit1 = QuantumCircuit(1)\n",
    "circuit2 = QuantumCircuit(1)\n",
    "\n",
    "#initialize both the circuits with |1> stae\n",
    "circuit1.initialize([0, 1], 0)\n",
    "circuit2.initialize([0, 1], 0)\n",
    "\n",
    "# Apply X gate to the first circuit\n",
    "circuit1.x(0)\n",
    "\n",
    "# Apply HZH to the second circuit\n",
    "circuit2.h(0)\n",
    "circuit2.z(0)\n",
    "circuit2.h(0) \n",
    "\n",
    "# Use statevector simulator to get the output states\n",
    "simulator = Aer.get_backend('statevector_simulator')\n",
    "result1_1 = execute(circuit1,backend).result().get_statevector()\n",
    "result2_1 = execute(circuit2,backend).result().get_statevector()\n",
    "\n",
    "# Compare outputs for |1⟩ state\n",
    "print(\"Output for |1⟩ state:\")\n",
    "display(Markdown(\"X statevector\"))\n",
    "display(array_to_latex(result1_1))\n",
    "display(Markdown(\"HZH statevector\"))\n",
    "display(array_to_latex(result2_1))"
   ]
  },
  {
   "cell_type": "markdown",
   "id": "c3cb7b1c",
   "metadata": {},
   "source": [
    "# 7) Entanglement"
   ]
  },
  {
   "cell_type": "markdown",
   "id": "0974f487",
   "metadata": {},
   "source": [
    "### 7a) Phi+ bell state\n",
    "$$\n",
    "|\\phi^+\\rangle = \\frac{1}{\\sqrt{2}}(|00\\rangle + |11\\rangle)\n",
    "$$"
   ]
  },
  {
   "cell_type": "code",
   "execution_count": null,
   "id": "d7636299",
   "metadata": {},
   "outputs": [],
   "source": [
    "#Create a quantum circuit with 2 qubit and 2 classical bit\n",
    "circuit= QuantumCircuit(2,2)\n",
    "\n",
    "#Apply hadamard gate\n",
    "circuit.h(0)\n",
    "\n",
    "#Apply c-Not gate\n",
    "circuit.cx(0,1)"
   ]
  },
  {
   "cell_type": "code",
   "execution_count": null,
   "id": "48fa1aba",
   "metadata": {},
   "outputs": [],
   "source": [
    "circuit.draw('mpl')"
   ]
  },
  {
   "cell_type": "code",
   "execution_count": null,
   "id": "8fd76980",
   "metadata": {},
   "outputs": [],
   "source": [
    "# calling statevector_simulator from backend of Aer\n",
    "backend_svec = Aer.get_backend('statevector_simulator')\n",
    "\n",
    "#return transpiled circuit \n",
    "transpiledcircuit_svec = transpile(circuit,backend_svec)\n",
    "\n",
    "#excute the simulation for statevector\n",
    "results_svec = execute(transpiledcircuit_svec,backend_svec).result()\n",
    "\n",
    "# Display the statevector cleanly in LaTeX format\n",
    "statevector=results_svec.get_statevector(transpiledcircuit_svec)\n",
    "latex_statevector = array_to_latex(statevector)\n",
    "display(Markdown(\"Output statevector\"))\n",
    "display(latex_statevector)\n",
    "plot_state_qsphere(statevector)"
   ]
  },
  {
   "cell_type": "code",
   "execution_count": null,
   "id": "b8d19247",
   "metadata": {},
   "outputs": [],
   "source": [
    "# calculating the amplitudes for the state_vector\n",
    "amplitudes = statevector.data\n",
    "for i, amplitude in enumerate(amplitudes):\n",
    "    print(f\"Amplitude for state |{format(i, '0' + str(statevector.num_qubits) + 'b')}>: {amplitude}\")"
   ]
  },
  {
   "cell_type": "code",
   "execution_count": null,
   "id": "5cdfac98",
   "metadata": {},
   "outputs": [],
   "source": [
    "# measure means measuring the qubit at index 0 and index 1 and then storing the result in classical qubit at index 0 and index 1 respectively\n",
    "circuit.measure([0,1],[0,1])\n",
    "\n",
    "# apply the qasm simulator\n",
    "backend_qasm= Aer.get_backend('qasm_simulator')\n",
    "\n",
    "#return transpiled circuit using transpile\n",
    "transpiledcircuit_qasm = transpile(circuit,backend_qasm)\n",
    "\n",
    "#excute the simulation for 1024 shots\n",
    "results_qasm = execute(transpiledcircuit_qasm,backend_qasm,shots=1024).result()\n",
    "\n",
    "#get the counts and plot histogram\n",
    "counts=results_qasm.get_counts(transpiledcircuit_qasm)\n",
    "plot_histogram(counts,figsize=(3,4))"
   ]
  },
  {
   "cell_type": "markdown",
   "id": "0e7c177b",
   "metadata": {},
   "source": [
    "### 7b) Phi- bell state\n",
    "$$\n",
    "|\\phi^-\\rangle = \\frac{1}{\\sqrt{2}}(|00\\rangle - |11\\rangle)\n",
    "$$"
   ]
  },
  {
   "cell_type": "code",
   "execution_count": null,
   "id": "a59bb806",
   "metadata": {},
   "outputs": [],
   "source": [
    "#Create a quantum circuit with 2 qubit and 2 classical bit\n",
    "circuit= QuantumCircuit(2,2)\n",
    "\n",
    "# Apply flip gate to qubit at index 0 \n",
    "circuit.x(0)\n",
    "\n",
    "# Further apply hadamard gate to qubit at index 0\n",
    "circuit.h(0)\n",
    "\n",
    "# Apply c-Not gate\n",
    "circuit.cx(0,1)\n",
    "circuit.draw('mpl')"
   ]
  },
  {
   "cell_type": "code",
   "execution_count": null,
   "id": "657ec983",
   "metadata": {},
   "outputs": [],
   "source": [
    "# calling statevector_simulator from backend of Aer\n",
    "backend_svec = Aer.get_backend('statevector_simulator')\n",
    "\n",
    "#return transpiled circuit \n",
    "transpiledcircuit_svec = transpile(circuit,backend_svec)\n",
    "\n",
    "#excute the simulation for statevector\n",
    "results_svec = execute(transpiledcircuit_svec,backend_svec).result()\n",
    "\n",
    "# Display the statevector cleanly in LaTeX format\n",
    "statevector=results_svec.get_statevector(transpiledcircuit_svec)\n",
    "latex_statevector = array_to_latex(statevector)\n",
    "display(Markdown(\"Output statevector\"))\n",
    "display(latex_statevector)\n",
    "plot_state_qsphere(statevector)"
   ]
  },
  {
   "cell_type": "code",
   "execution_count": null,
   "id": "acc6ea53",
   "metadata": {},
   "outputs": [],
   "source": [
    "# measure means measuring the qubit at index 0 and index 1 and then storing the result in classical qubit at index 0 and index 1 respectively\n",
    "circuit.measure([0,1],[0,1])\n",
    "\n",
    "# Apply qasm simulator\n",
    "backend_qasm= Aer.get_backend('qasm_simulator')\n",
    "\n",
    "#return transpiled circuit using transpile\n",
    "transpiledcircuit_qasm = transpile(circuit,backend_qasm)\n",
    "\n",
    "#excute the simulation for 1024 shots\n",
    "results_qasm = execute(transpiledcircuit_qasm,backend_qasm,shots=1024).result()\n",
    "\n",
    "#get the counts and plot histogram\n",
    "counts=results_qasm.get_counts(transpiledcircuit_qasm)\n",
    "plot_histogram(counts,figsize=(3,4))"
   ]
  },
  {
   "cell_type": "markdown",
   "id": "7451d066",
   "metadata": {},
   "source": [
    "### 7c) Psi+ bell state\n",
    "$$ \n",
    "|\\psi^+\\rangle = \\frac{1}{\\sqrt{2}}(|01\\rangle +|10\\rangle)\n",
    "$$"
   ]
  },
  {
   "cell_type": "code",
   "execution_count": null,
   "id": "7e2aa692",
   "metadata": {},
   "outputs": [],
   "source": [
    "#Create a quantum circuit with 2 qubit and 2 classical bit\n",
    "circuit= QuantumCircuit(2,2)\n",
    "\n",
    "#Apply flip gate on qubit at index 1\n",
    "circuit.x(1)\n",
    "\n",
    "#Apply hadamard gate on qubit at index 0\n",
    "circuit.h(0)\n",
    "\n",
    "#Apply c-Not gate\n",
    "circuit.cx(0,1)\n",
    "circuit.draw('mpl')"
   ]
  },
  {
   "cell_type": "code",
   "execution_count": null,
   "id": "e9b63a27",
   "metadata": {},
   "outputs": [],
   "source": [
    "# calling statevector_simulator from backend of Aer\n",
    "backend_svec = Aer.get_backend('statevector_simulator')\n",
    "\n",
    "#return transpiled circuit \n",
    "transpiledcircuit_svec = transpile(circuit,backend_svec)\n",
    "\n",
    "#excute the simulation for statevector\n",
    "results_svec = execute(transpiledcircuit_svec,backend_svec).result()\n",
    "\n",
    "# Display the statevector cleanly in LaTeX format\n",
    "statevector=results_svec.get_statevector(transpiledcircuit_svec)\n",
    "latex_statevector = array_to_latex(statevector)\n",
    "display(Markdown(\"Output statevector\"))\n",
    "display(latex_statevector)\n",
    "plot_state_qsphere(statevector)"
   ]
  },
  {
   "cell_type": "code",
   "execution_count": null,
   "id": "a043b3fc",
   "metadata": {},
   "outputs": [],
   "source": [
    "# measure means measuring the qubit at index 0 and index 1 and then storing the result in classical qubit at index 0 and index 1 respectively\n",
    "circuit.measure([0,1],[0,1])\n",
    "\n",
    "# Apply the qasm simulator\n",
    "backend_qasm= Aer.get_backend('qasm_simulator')\n",
    "\n",
    "#return transpiled circuit using transpile\n",
    "transpiledcircuit_qasm = transpile(circuit,backend_qasm)\n",
    "\n",
    "#excute the simulation for 1024 shots\n",
    "results_qasm = execute(transpiledcircuit_qasm,backend_qasm,shots=1024).result()\n",
    "\n",
    "#get the counts and plot histogram\n",
    "counts=results_qasm.get_counts(transpiledcircuit_qasm)\n",
    "plot_histogram(counts,figsize=(3,4))"
   ]
  },
  {
   "cell_type": "markdown",
   "id": "6414af17",
   "metadata": {},
   "source": [
    "### 7d) Psi- bell state\n",
    "$$\n",
    "|\\psi-\\rangle = \\frac{1}{\\sqrt{2}}(|01\\rangle -|10\\rangle)\n",
    "$$"
   ]
  },
  {
   "cell_type": "code",
   "execution_count": null,
   "id": "f3b7d865",
   "metadata": {},
   "outputs": [],
   "source": [
    "#Create a quantum circuit with 2 qubit and 2 classical bit\n",
    "circuit= QuantumCircuit(2,2)\n",
    "\n",
    "#Apply flip gate on qubit at index 0\n",
    "circuit.x(0)\n",
    "\n",
    "#Apply flip gate on qubit at index 1\n",
    "circuit.x(1)\n",
    "\n",
    "#Apply hadamard gate on qubit at index 0\n",
    "circuit.h(0)\n",
    "\n",
    "#Apply c-Not gate\n",
    "circuit.cx(0,1)\n",
    "circuit.draw('mpl')"
   ]
  },
  {
   "cell_type": "code",
   "execution_count": null,
   "id": "9c9a4060",
   "metadata": {},
   "outputs": [],
   "source": [
    "# calling statevector_simulator from backend of Aer\n",
    "backend_svec = Aer.get_backend('statevector_simulator')\n",
    "\n",
    "#return transpiled circuit \n",
    "transpiledcircuit_svec = transpile(circuit,backend_svec)\n",
    "\n",
    "#excute the simulation for statevector\n",
    "results_svec = execute(transpiledcircuit_svec,backend_svec).result()\n",
    "\n",
    "# Display the statevector cleanly in LaTeX format\n",
    "statevector=results_svec.get_statevector(transpiledcircuit_svec)\n",
    "latex_statevector = array_to_latex(statevector)\n",
    "display(Markdown(\"Output statevector\"))\n",
    "display(latex_statevector)\n",
    "plot_state_qsphere(statevector)"
   ]
  },
  {
   "cell_type": "code",
   "execution_count": null,
   "id": "4e05e83d",
   "metadata": {
    "scrolled": true
   },
   "outputs": [],
   "source": [
    "# measure means measuring the qubit at index 0 and index 1 and then storing the result in classical qubit at index 0 and index 1 respectively\n",
    "circuit.measure([0,1],[0,1])\n",
    "\n",
    "# Apply qasm simulator\n",
    "backend_qasm= Aer.get_backend('qasm_simulator')\n",
    "\n",
    "#return transpiled circuit using transpile\n",
    "transpiledcircuit_qasm = transpile(circuit,backend_qasm)\n",
    "\n",
    "#excute the simulation for 1024 shots\n",
    "results_qasm = execute(transpiledcircuit_qasm,backend_qasm,shots=1024).result()\n",
    "\n",
    "#get the counts and plot histogram\n",
    "counts=results_qasm.get_counts(transpiledcircuit_qasm)\n",
    "plot_histogram(counts,figsize=(3,4))"
   ]
  },
  {
   "cell_type": "markdown",
   "id": "faa59ecb",
   "metadata": {},
   "source": [
    "# 8) Teleportation"
   ]
  },
  {
   "cell_type": "markdown",
   "id": "78cb7989",
   "metadata": {},
   "source": [
    "#### Transfer of quantum states from one qubit to another. i.e transfer of information. In classical computer, copying and transfering is not an issue but in quantum computers, copy is not allowed. In order to overcome, lets take entanglement as resource and then build qiskit teleportation circuit"
   ]
  },
  {
   "cell_type": "code",
   "execution_count": null,
   "id": "0f5d4ac3",
   "metadata": {},
   "outputs": [],
   "source": [
    "#Create a quantum circuit with 3 qubit and 3 classical bit i.e. q0 being sender, q1 being entangled and q2 being receiver\n",
    "circuit = QuantumCircuit(3,3)"
   ]
  },
  {
   "cell_type": "code",
   "execution_count": null,
   "id": "91a808ce",
   "metadata": {},
   "outputs": [],
   "source": [
    "circuit.draw(output = \"mpl\")"
   ]
  },
  {
   "cell_type": "code",
   "execution_count": null,
   "id": "3cf05919",
   "metadata": {},
   "outputs": [],
   "source": [
    "# Apply flip gate to q0 make it set to 1 which is initial state and final would be to pass this one to q2 to make it 1\n",
    "circuit.x(0)"
   ]
  },
  {
   "cell_type": "code",
   "execution_count": null,
   "id": "6d3ec8e9",
   "metadata": {},
   "outputs": [],
   "source": [
    "circuit.barrier()"
   ]
  },
  {
   "cell_type": "code",
   "execution_count": null,
   "id": "09f03899",
   "metadata": {},
   "outputs": [],
   "source": [
    "circuit.draw(output = \"mpl\")"
   ]
  },
  {
   "cell_type": "code",
   "execution_count": null,
   "id": "1e3f90e3",
   "metadata": {},
   "outputs": [],
   "source": [
    "# create an entangled pair between 1 and 2\n",
    "circuit.h(1)\n",
    "circuit.cx(1,2)\n",
    "circuit.draw(output = \"mpl\")"
   ]
  },
  {
   "cell_type": "code",
   "execution_count": null,
   "id": "d9ff5637",
   "metadata": {},
   "outputs": [],
   "source": [
    "# apply teleportation protocol\n",
    "circuit.cx(0,1)\n",
    "circuit.h(0)\n",
    "circuit.draw(output = \"mpl\")"
   ]
  },
  {
   "cell_type": "code",
   "execution_count": null,
   "id": "bfee8189",
   "metadata": {},
   "outputs": [],
   "source": [
    "# measure the bits\n",
    "circuit.measure([0,1], [0,1])"
   ]
  },
  {
   "cell_type": "code",
   "execution_count": null,
   "id": "b39661c4",
   "metadata": {},
   "outputs": [],
   "source": [
    "circuit.draw(output = \"mpl\")"
   ]
  },
  {
   "cell_type": "code",
   "execution_count": null,
   "id": "c6d0378c",
   "metadata": {},
   "outputs": [],
   "source": [
    "# send the result through channel\n",
    "circuit.cx(1,2)\n",
    "circuit.cz(0,2)\n",
    "circuit.draw(output=\"mpl\")"
   ]
  },
  {
   "cell_type": "code",
   "execution_count": null,
   "id": "98295825",
   "metadata": {},
   "outputs": [],
   "source": [
    "# q0 teleported to q2 with state 1\n",
    "circuit.measure(2,2)\n",
    "simulator = Aer.get_backend(\"qasm_simulator\")\n",
    "result = execute(circuit, backend = simulator, shots = 1024).result()\n",
    "counts = result.get_counts()"
   ]
  },
  {
   "cell_type": "code",
   "execution_count": null,
   "id": "bd50a7b8",
   "metadata": {},
   "outputs": [],
   "source": [
    "plot_histogram(counts,figsize=(3,4))"
   ]
  },
  {
   "cell_type": "code",
   "execution_count": null,
   "id": "4e378a30",
   "metadata": {},
   "outputs": [],
   "source": [
    "#the histogram is read as c2,c1,c0\n",
    "#hence we can see all the results have first digit as 1"
   ]
  }
 ],
 "metadata": {
  "kernelspec": {
   "display_name": "Python 3 (ipykernel)",
   "language": "python",
   "name": "python3"
  },
  "language_info": {
   "codemirror_mode": {
    "name": "ipython",
    "version": 3
   },
   "file_extension": ".py",
   "mimetype": "text/x-python",
   "name": "python",
   "nbconvert_exporter": "python",
   "pygments_lexer": "ipython3",
   "version": "3.9.13"
  }
 },
 "nbformat": 4,
 "nbformat_minor": 5
}
